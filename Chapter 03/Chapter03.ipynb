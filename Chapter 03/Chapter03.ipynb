{
 "cells": [
  {
   "cell_type": "markdown",
   "metadata": {},
   "source": [
    "#### Example of Thread state"
   ]
  },
  {
   "cell_type": "code",
   "execution_count": 1,
   "metadata": {},
   "outputs": [
    {
     "name": "stdout",
     "output_type": "stream",
     "text": [
      "My Thread has entered the 'Running' State\n",
      "My Thread is terminating\n",
      "My Thead has entered a 'Dead' state\n"
     ]
    }
   ],
   "source": [
    "import threading\n",
    "import time\n",
    "\n",
    "# A very simple method for our thread to execute\n",
    "def threadWorker():\n",
    "  # it is only at the point where the thread starts executing\n",
    "  # that it's state goes from 'Runnable' to a 'Running'\n",
    "  # state\n",
    "  print(\"My Thread has entered the 'Running' State\")\n",
    "\n",
    "  # If we call the time.sleep() method then our thread\n",
    "  # goes into a not-runnable state. We can do no further work\n",
    "  # on this particular thread\n",
    "  time.sleep(10)\n",
    "  # Thread then completes its tasks and terminates\n",
    "  print(\"My Thread is terminating\")\n",
    "\n",
    "# At this point in time, the thread has no state\n",
    "# it hasn't been allocated any system resources\n",
    "myThread = threading.Thread(target=threadWorker)\n",
    " \n",
    "# When we call myThread.start(), Python allocates the necessary system \n",
    "# resources in order for our thread to run and then calls the thread's\n",
    "# run method. It goes from 'Starting' state to 'Runnable' but not running \n",
    "myThread.start()\n",
    "\n",
    "# Here we join the thread and when this method is called\n",
    "# our thread goes into a 'Dead' state. It has finished the\n",
    "# job that it was intended to do.\n",
    "myThread.join()\n",
    "print(\"My Thead has entered a 'Dead' state\")"
   ]
  },
  {
   "cell_type": "markdown",
   "metadata": {},
   "source": [
    "#### Starting a thread"
   ]
  },
  {
   "cell_type": "code",
   "execution_count": 2,
   "metadata": {},
   "outputs": [
    {
     "name": "stdout",
     "output_type": "stream",
     "text": [
      "Thread 0 startedActive Threads:\n",
      " [<_MainThread(MainThread, started 17272)>, <Thread(Thread-4, started daemon 9464)>, <Heartbeat(Thread-5, started daemon 15416)>, <HistorySavingThread(IPythonHistorySavingThread, started 12592)>, <ParentPollerWindows(Thread-3, started daemon 4988)>, <Thread(Thread-7, started 17684)>]\n",
      "Thread 1 startedActive Threads: [<_MainThread(MainThread, started 17272)>, <Thread(Thread-4, started daemon 9464)>, <Heartbeat(Thread-5, started daemon 15416)>, <HistorySavingThread(IPythonHistorySavingThread, started 12592)>, <ParentPollerWindows(Thread-3, started daemon 4988)>, <Thread(Thread-7, started 17684)>, <Thread(Thread-8, started 12352)>]\n",
      "\n",
      "Thread 2 startedActive Threads: [<_MainThread(MainThread, started 17272)>, <Thread(Thread-4, started daemon 9464)>, <Heartbeat(Thread-5, started daemon 15416)>, <HistorySavingThread(IPythonHistorySavingThread, started 12592)>, <ParentPollerWindows(Thread-3, started daemon 4988)>, <Thread(Thread-7, started 17684)>, <Thread(Thread-8, started 12352)>, <Thread(Thread-9, started 15776)>]\n",
      "\n",
      "Thread 3 started\n",
      "Active Threads: [<_MainThread(MainThread, started 17272)>, <Thread(Thread-4, started daemon 9464)>, <Heartbeat(Thread-5, started daemon 15416)>, <HistorySavingThread(IPythonHistorySavingThread, started 12592)>, <ParentPollerWindows(Thread-3, started daemon 4988)>, <Thread(Thread-7, started 17684)>, <Thread(Thread-8, started 12352)>, <Thread(Thread-9, started 15776)>, <Thread(Thread-10, started 16004)>]\n",
      "Thread 4 started\n",
      "Active Threads: [<_MainThread(MainThread, started 17272)>, <Thread(Thread-4, started daemon 9464)>, <Heartbeat(Thread-5, started daemon 15416)>, <HistorySavingThread(IPythonHistorySavingThread, started 12592)>, <ParentPollerWindows(Thread-3, started daemon 4988)>, <Thread(Thread-7, started 17684)>, <Thread(Thread-8, started 12352)>, <Thread(Thread-9, started 15776)>, <Thread(Thread-10, started 16004)>, <Thread(Thread-11, started 16532)>]\n",
      "Thread 5 started\n",
      "Active Threads: [<_MainThread(MainThread, started 17272)>, <Thread(Thread-4, started daemon 9464)>, <Heartbeat(Thread-5, started daemon 15416)>, <HistorySavingThread(IPythonHistorySavingThread, started 12592)>, <ParentPollerWindows(Thread-3, started daemon 4988)>, <Thread(Thread-7, started 17684)>, <Thread(Thread-8, started 12352)>, <Thread(Thread-9, started 15776)>, <Thread(Thread-10, started 16004)>, <Thread(Thread-11, started 16532)>, <Thread(Thread-12, started 12616)>]\n",
      "Thread 6 startedActive Threads: [<_MainThread(MainThread, started 17272)>, <Thread(Thread-4, started daemon 9464)>, <Heartbeat(Thread-5, started daemon 15416)>, <HistorySavingThread(IPythonHistorySavingThread, started 12592)>, <ParentPollerWindows(Thread-3, started daemon 4988)>, <Thread(Thread-7, started 17684)>, <Thread(Thread-8, started 12352)>, <Thread(Thread-9, started 15776)>, <Thread(Thread-10, started 16004)>, <Thread(Thread-11, started 16532)>, <Thread(Thread-12, started 12616)>, <Thread(Thread-13, started 11424)>]\n",
      "Thread 7 startedActive Threads: [<_MainThread(MainThread, started 17272)>, <Thread(Thread-4, started daemon 9464)>, <Heartbeat(Thread-5, started daemon 15416)>, <HistorySavingThread(IPythonHistorySavingThread, started 12592)>, <ParentPollerWindows(Thread-3, started daemon 4988)>, <Thread(Thread-7, started 17684)>, <Thread(Thread-8, started 12352)>, <Thread(Thread-9, started 15776)>, <Thread(Thread-10, started 16004)>, <Thread(Thread-11, started 16532)>, <Thread(Thread-12, started 12616)>, <Thread(Thread-13, started 11424)>, <Thread(Thread-14, started 17644)>]\n",
      "\n",
      "Thread 8 started\n",
      "\n",
      "Active Threads: [<_MainThread(MainThread, started 17272)>, <Thread(Thread-4, started daemon 9464)>, <Heartbeat(Thread-5, started daemon 15416)>, <HistorySavingThread(IPythonHistorySavingThread, started 12592)>, <ParentPollerWindows(Thread-3, started daemon 4988)>, <Thread(Thread-7, started 17684)>, <Thread(Thread-8, started 12352)>, <Thread(Thread-9, started 15776)>, <Thread(Thread-10, started 16004)>, <Thread(Thread-11, started 16532)>, <Thread(Thread-12, started 12616)>, <Thread(Thread-13, started 11424)>, <Thread(Thread-14, started 17644)>, <Thread(Thread-15, started 17784)>]\n",
      "Thread 9 started\n",
      "Active Threads: [<_MainThread(MainThread, started 17272)>, <Thread(Thread-4, started daemon 9464)>, <Heartbeat(Thread-5, started daemon 15416)>, <HistorySavingThread(IPythonHistorySavingThread, started 12592)>, <ParentPollerWindows(Thread-3, started daemon 4988)>, <Thread(Thread-7, started 17684)>, <Thread(Thread-8, started 12352)>, <Thread(Thread-9, started 15776)>, <Thread(Thread-10, started 16004)>, <Thread(Thread-11, started 16532)>, <Thread(Thread-12, started 12616)>, <Thread(Thread-13, started 11424)>, <Thread(Thread-14, started 17644)>, <Thread(Thread-15, started 17784)>, <Thread(Thread-16, started 17528)>]\n",
      "Thread 2 finished executing\n",
      "Thread 9 finished executing\n",
      "Thread 7 finished executing\n",
      "Thread 3 finished executing\n",
      "Thread 6 finished executingThread 8 finished executing\n",
      "\n",
      "Thread 5 finished executing\n",
      "Thread 0 finished executing\n",
      "Thread 4 finished executing\n",
      "Thread 1 finished executing\n"
     ]
    }
   ],
   "source": [
    "import threading\n",
    "import time\n",
    "import random\n",
    "\n",
    "def executeThread(i):\n",
    "  print(\"Thread {} started\".format(i))\n",
    "  sleepTime = random.randint(1,10)\n",
    "  time.sleep(sleepTime)\n",
    "  print(\"Thread {} finished executing\".format(i))\n",
    "\n",
    "for i in range(10):\n",
    "  thread = threading.Thread(target=executeThread, args=(i,))\n",
    "  thread.start()\n",
    "\n",
    "  print(\"Active Threads:\" , threading.enumerate())"
   ]
  },
  {
   "cell_type": "markdown",
   "metadata": {},
   "source": [
    "#### Inheriting from the Thread class"
   ]
  },
  {
   "cell_type": "code",
   "execution_count": 4,
   "metadata": {},
   "outputs": [
    {
     "name": "stdout",
     "output_type": "stream",
     "text": [
      "Hello world\n",
      "Created my Thread Object\n",
      "Thread is now running\n",
      "\n",
      "Started my thread\n",
      "My Thread finished\n"
     ]
    }
   ],
   "source": [
    "from threading import Thread\n",
    "\n",
    "class myWorkerThread(Thread):\n",
    "\n",
    "  def __init__(self):\n",
    "    print(\"Hello world\")\n",
    "    Thread.__init__(self)\n",
    "  \n",
    "  def run(self):\n",
    "    print(\"Thread is now running\\n\")\n",
    "\n",
    "myThread = myWorkerThread()\n",
    "print(\"Created my Thread Object\")\n",
    "myThread.start()\n",
    "print(\"Started my thread\")\n",
    "myThread.join()\n",
    "print(\"My Thread finished\")"
   ]
  },
  {
   "cell_type": "markdown",
   "metadata": {},
   "source": [
    "#### Forking"
   ]
  },
  {
   "cell_type": "code",
   "execution_count": 5,
   "metadata": {},
   "outputs": [
    {
     "name": "stdout",
     "output_type": "stream",
     "text": [
      "We are in the parent process with PID= 11912\n"
     ]
    },
    {
     "ename": "AttributeError",
     "evalue": "module 'os' has no attribute 'fork'",
     "output_type": "error",
     "traceback": [
      "\u001b[1;31m---------------------------------------------------------------------------\u001b[0m",
      "\u001b[1;31mAttributeError\u001b[0m                            Traceback (most recent call last)",
      "\u001b[1;32m<ipython-input-5-e12336ab71fe>\u001b[0m in \u001b[0;36m<module>\u001b[1;34m\u001b[0m\n\u001b[0;32m     12\u001b[0m     \u001b[0mprint\u001b[0m\u001b[1;33m(\u001b[0m\u001b[1;34m\"We are in the parent process and our child process has PID= %d\"\u001b[0m\u001b[1;33m%\u001b[0m\u001b[0mnewRef\u001b[0m\u001b[1;33m)\u001b[0m\u001b[1;33m\u001b[0m\u001b[1;33m\u001b[0m\u001b[0m\n\u001b[0;32m     13\u001b[0m \u001b[1;33m\u001b[0m\u001b[0m\n\u001b[1;32m---> 14\u001b[1;33m \u001b[0mparent\u001b[0m\u001b[1;33m(\u001b[0m\u001b[1;33m)\u001b[0m\u001b[1;33m\u001b[0m\u001b[1;33m\u001b[0m\u001b[0m\n\u001b[0m",
      "\u001b[1;32m<ipython-input-5-e12336ab71fe>\u001b[0m in \u001b[0;36mparent\u001b[1;34m()\u001b[0m\n\u001b[0;32m      6\u001b[0m \u001b[1;32mdef\u001b[0m \u001b[0mparent\u001b[0m\u001b[1;33m(\u001b[0m\u001b[1;33m)\u001b[0m\u001b[1;33m:\u001b[0m\u001b[1;33m\u001b[0m\u001b[1;33m\u001b[0m\u001b[0m\n\u001b[0;32m      7\u001b[0m   \u001b[0mprint\u001b[0m\u001b[1;33m(\u001b[0m\u001b[1;34m\"We are in the parent process with PID= %d\"\u001b[0m\u001b[1;33m%\u001b[0m\u001b[0mos\u001b[0m\u001b[1;33m.\u001b[0m\u001b[0mgetpid\u001b[0m\u001b[1;33m(\u001b[0m\u001b[1;33m)\u001b[0m\u001b[1;33m)\u001b[0m\u001b[1;33m\u001b[0m\u001b[1;33m\u001b[0m\u001b[0m\n\u001b[1;32m----> 8\u001b[1;33m   \u001b[0mnewRef\u001b[0m\u001b[1;33m=\u001b[0m\u001b[0mos\u001b[0m\u001b[1;33m.\u001b[0m\u001b[0mfork\u001b[0m\u001b[1;33m(\u001b[0m\u001b[1;33m)\u001b[0m\u001b[1;33m\u001b[0m\u001b[1;33m\u001b[0m\u001b[0m\n\u001b[0m\u001b[0;32m      9\u001b[0m   \u001b[1;32mif\u001b[0m \u001b[0mnewRef\u001b[0m\u001b[1;33m==\u001b[0m\u001b[1;36m0\u001b[0m\u001b[1;33m:\u001b[0m\u001b[1;33m\u001b[0m\u001b[1;33m\u001b[0m\u001b[0m\n\u001b[0;32m     10\u001b[0m     \u001b[0mchild\u001b[0m\u001b[1;33m(\u001b[0m\u001b[1;33m)\u001b[0m\u001b[1;33m\u001b[0m\u001b[1;33m\u001b[0m\u001b[0m\n",
      "\u001b[1;31mAttributeError\u001b[0m: module 'os' has no attribute 'fork'"
     ]
    }
   ],
   "source": [
    "import os \n",
    "\n",
    "def child(): \n",
    "  print(\"We are in the child process with PID= %d\"%os.getpid()) \n",
    "  \n",
    "def parent(): \n",
    "  print(\"We are in the parent process with PID= %d\"%os.getpid())\n",
    "  newRef=os.fork() \n",
    "  if newRef==0: \n",
    "    child() \n",
    "  else: \n",
    "    print(\"We are in the parent process and our child process has PID= %d\"%newRef)\n",
    "    \n",
    "parent()"
   ]
  },
  {
   "cell_type": "code",
   "execution_count": null,
   "metadata": {},
   "outputs": [],
   "source": []
  }
 ],
 "metadata": {
  "kernelspec": {
   "display_name": "Python 3",
   "language": "python",
   "name": "python3"
  },
  "language_info": {
   "codemirror_mode": {
    "name": "ipython",
    "version": 3
   },
   "file_extension": ".py",
   "mimetype": "text/x-python",
   "name": "python",
   "nbconvert_exporter": "python",
   "pygments_lexer": "ipython3",
   "version": "3.7.7"
  }
 },
 "nbformat": 4,
 "nbformat_minor": 4
}
